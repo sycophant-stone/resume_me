{
 "cells": [
  {
   "cell_type": "markdown",
   "metadata": {},
   "source": [
    "### record\n"
   ]
  },
  {
   "cell_type": "markdown",
   "metadata": {},
   "source": [
    "#### cv\n",
    "\n",
    "> 均可手写python实现.\n",
    "\n",
    "1. segmentation\n",
    "   1. 实现conv2d, conv1d,sobel,scharr检测算法.\n",
    "   2. 实现canny检测算法\n",
    "\n",
    "2. smooth\n",
    "   1. 实现conv2d,并依次实现Gaussian filter, bilateral filter."
   ]
  },
  {
   "cell_type": "markdown",
   "metadata": {},
   "source": [
    "#### ml\n",
    "\n",
    "> 均可手写python实现\n",
    "\n",
    "1. lr\n",
    "   实现lr,及skl中lr个参数影响.\n",
    "\n",
    "2. decision tree\n",
    "   1. 熟悉skl用法,并理解depth参数对dt的影响. (越大越如何)\n",
    "   2. 实现dt.(利用 信息增益,信息增益率)\n",
    "\n",
    "3. bayes \n",
    "   1. 熟悉naive bayes模型.理解skl中参数的影响.(什么参数,什么影响)\n",
    "   2. 实现naive bayes对spam email过滤.(先构建vocab,然后对样本计算两个P)\n",
    "\n",
    "4. svm\n",
    "   1. 熟悉线性svm,非线性svm.硬间隔及软间隔分类. 熟悉skl参数对svm影响.\n",
    "   什么参数影响?\n",
    "   \n",
    "   2. 实现svm.()"
   ]
  },
  {
   "cell_type": "markdown",
   "metadata": {},
   "source": [
    "#### dl\n",
    "\n",
    "1. mtcnn中网络添加.添加caffe方法.在ncnn上添加方法.\n",
    "   1. 实现其前向和反向传播.\n",
    "   2. 实现nms方法.\n",
    "   3. 实现必要的硬件加速"
   ]
  },
  {
   "cell_type": "code",
   "execution_count": null,
   "metadata": {},
   "outputs": [],
   "source": []
  }
 ],
 "metadata": {
  "kernelspec": {
   "display_name": "Python 3",
   "language": "python",
   "name": "python3"
  },
  "language_info": {
   "codemirror_mode": {
    "name": "ipython",
    "version": 3
   },
   "file_extension": ".py",
   "mimetype": "text/x-python",
   "name": "python",
   "nbconvert_exporter": "python",
   "pygments_lexer": "ipython3",
   "version": "3.6.2"
  }
 },
 "nbformat": 4,
 "nbformat_minor": 2
}
